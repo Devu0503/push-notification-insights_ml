{
 "cells": [
  {
   "cell_type": "code",
   "execution_count": 3,
   "id": "4b69d5d9-052d-4196-b58e-e9918d1b5347",
   "metadata": {},
   "outputs": [
    {
     "name": "stdout",
     "output_type": "stream",
     "text": [
      "Requirement already satisfied: ace_tools in c:\\users\\kshit\\anaconda3\\lib\\site-packages (0.0)\n",
      "Note: you may need to restart the kernel to use updated packages.\n"
     ]
    }
   ],
   "source": [
    "# pip install ace_tools"
   ]
  },
  {
   "cell_type": "code",
   "execution_count": 5,
   "id": "57da6634-0ebb-4dcc-989a-9219b27f0f77",
   "metadata": {},
   "outputs": [],
   "source": [
    "import pandas as pd\n",
    "import numpy as np\n",
    "from datetime import datetime, timedelta\n",
    "import random\n",
    "\n",
    "# Seed for reproducibility\n",
    "random.seed(42)\n",
    "np.random.seed(42)\n",
    "\n",
    "# Generate synthetic data\n",
    "num_rows = 20000\n",
    "start_date = datetime(2024, 1, 1)\n",
    "\n",
    "def generate_time():\n",
    "    day_offset = np.random.randint(0, 90)\n",
    "    hour = np.random.randint(0, 24)\n",
    "    minute = np.random.randint(0, 60)\n",
    "    return start_date + timedelta(days=day_offset, hours=hour, minutes=minute)\n",
    "\n",
    "categories = ['Food', 'Grocery', 'Books', 'Electronics', 'Clothing']\n",
    "notification_types = ['Reminder', 'New Arrival', 'Discount', 'Urgent']\n",
    "user_types = ['New', 'Returning', 'Loyal']\n",
    "device_types = ['Mobile', 'Tablet', 'Desktop']\n",
    "os_types = ['Android', 'iOS']\n",
    "urgency_words = ['Limited Time', 'Hurry', 'Exclusive', '']\n",
    "emoji_used = [True, False]\n",
    "\n",
    "data = []\n",
    "\n",
    "for i in range(num_rows):\n",
    "    notification_time = generate_time()\n",
    "    session_delay = np.random.randint(0, 180)  # in minutes\n",
    "    session_time = notification_time + timedelta(minutes=session_delay)\n",
    "\n",
    "    row = {\n",
    "        'UserID': np.random.randint(1000, 10000),\n",
    "        'SessionTime': session_time,\n",
    "        'ProductID': np.random.randint(100, 1000),\n",
    "        'Category': np.random.choice(categories),\n",
    "        'NotificationType': np.random.choice(notification_types),\n",
    "        'NotificationTime': notification_time,\n",
    "        'Response': np.random.choice(['Yes', 'No'], p=[0.6, 0.4]),\n",
    "        'UserType': np.random.choice(user_types, p=[0.3, 0.4, 0.3]),\n",
    "        'DeviceType': np.random.choice(device_types),\n",
    "        'OS': np.random.choice(os_types),\n",
    "        'DiscountOffered': np.random.choice([0, 10, 20, 30, 50], p=[0.2, 0.2, 0.3, 0.2, 0.1]),\n",
    "        'UrgencyWordUsed': np.random.choice(urgency_words),\n",
    "        'EmojiUsed': np.random.choice(emoji_used)\n",
    "    }\n",
    "\n",
    "    # Enrich time-based features\n",
    "    row['DayOfWeek'] = notification_time.strftime('%A')\n",
    "    row['HourOfDay'] = notification_time.hour\n",
    "    row['IsWeekend'] = row['DayOfWeek'] in ['Saturday', 'Sunday']\n",
    "    row['TimeDelayMin'] = session_delay\n",
    "    row['NotificationTextLength'] = np.random.randint(20, 150)\n",
    "    \n",
    "    data.append(row)\n",
    "\n",
    "df = pd.DataFrame(data)\n",
    "df.to_csv(\"enhanced_push_notification_data.csv\", index=False)\n"
   ]
  },
  {
   "cell_type": "code",
   "execution_count": 9,
   "id": "fee055a4-0297-46e6-83fc-1890ca970aca",
   "metadata": {},
   "outputs": [],
   "source": []
  },
  {
   "cell_type": "code",
   "execution_count": null,
   "id": "6624f936-6073-4bc1-82ff-dac387fe9233",
   "metadata": {},
   "outputs": [],
   "source": []
  }
 ],
 "metadata": {
  "kernelspec": {
   "display_name": "Python [conda env:base] *",
   "language": "python",
   "name": "conda-base-py"
  },
  "language_info": {
   "codemirror_mode": {
    "name": "ipython",
    "version": 3
   },
   "file_extension": ".py",
   "mimetype": "text/x-python",
   "name": "python",
   "nbconvert_exporter": "python",
   "pygments_lexer": "ipython3",
   "version": "3.12.3"
  }
 },
 "nbformat": 4,
 "nbformat_minor": 5
}
